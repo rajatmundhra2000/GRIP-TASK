{
  "nbformat": 4,
  "nbformat_minor": 0,
  "metadata": {
    "colab": {
      "name": "DecisionTrees.ipynb",
      "provenance": [],
      "authorship_tag": "ABX9TyP3Oixv+HTwblOzRseXVpB5",
      "include_colab_link": true
    },
    "kernelspec": {
      "name": "python3",
      "display_name": "Python 3"
    }
  },
  "cells": [
    {
      "cell_type": "markdown",
      "metadata": {
        "id": "view-in-github",
        "colab_type": "text"
      },
      "source": [
        "<a href=\"https://colab.research.google.com/github/rajatmundhra2000/GRIP-TASK/blob/main/DecisionTrees.ipynb\" target=\"_parent\"><img src=\"https://colab.research.google.com/assets/colab-badge.svg\" alt=\"Open In Colab\"/></a>"
      ]
    },
    {
      "cell_type": "markdown",
      "metadata": {
        "id": "O3Z7Qo95PZDJ"
      },
      "source": [
        "##Task: Create the Decision Tree classifier and visualize it graphically."
        "Created by Rajat Mundhra"
      ]
    },
    {
      "cell_type": "code",
      "metadata": {
        "id": "LYqNxaEVpA2O"
      },
      "source": [
        "#Importing Libraries\n",
        "import numpy as np\n",
        "import pandas as pd\n",
        "import matplotlib.pyplot as plt\n",
        "from sklearn import datasets"
      ],
      "execution_count": 75,
      "outputs": []
    },
    {
      "cell_type": "markdown",
      "metadata": {
        "id": "EjdvGMa7qfNB"
      },
      "source": [
        "###Importing Dataset"
      ]
    },
    {
      "cell_type": "code",
      "metadata": {
        "id": "VWRERO_BtWVR",
        "outputId": "cc6f0fa0-7372-44da-b593-8b08703de4fd",
        "colab": {
          "base_uri": "https://localhost:8080/"
        }
      },
      "source": [
        "from google.colab import drive\n",
        "drive.mount('/content/drive')"
      ],
      "execution_count": 76,
      "outputs": [
        {
          "output_type": "stream",
          "text": [
            "Drive already mounted at /content/drive; to attempt to forcibly remount, call drive.mount(\"/content/drive\", force_remount=True).\n"
          ],
          "name": "stdout"
        }
      ]
    },
    {
      "cell_type": "code",
      "metadata": {
        "id": "1w1B26Zmqblk",
        "outputId": "35e5946f-7c23-45f1-edcb-9cdfe0be78a4",
        "colab": {
          "base_uri": "https://localhost:8080/",
          "height": 202
        }
      },
      "source": [
        "# Load the iris dataset\n",
        "data = pd.read_csv('/content/drive/My Drive/Colab Notebooks/Iris.csv')\n",
        "# See the first 5 rows\n",
        "data.head()"
      ],
      "execution_count": 77,
      "outputs": [
        {
          "output_type": "execute_result",
          "data": {
            "text/html": [
              "<div>\n",
              "<style scoped>\n",
              "    .dataframe tbody tr th:only-of-type {\n",
              "        vertical-align: middle;\n",
              "    }\n",
              "\n",
              "    .dataframe tbody tr th {\n",
              "        vertical-align: top;\n",
              "    }\n",
              "\n",
              "    .dataframe thead th {\n",
              "        text-align: right;\n",
              "    }\n",
              "</style>\n",
              "<table border=\"1\" class=\"dataframe\">\n",
              "  <thead>\n",
              "    <tr style=\"text-align: right;\">\n",
              "      <th></th>\n",
              "      <th>Id</th>\n",
              "      <th>SepalLengthCm</th>\n",
              "      <th>SepalWidthCm</th>\n",
              "      <th>PetalLengthCm</th>\n",
              "      <th>PetalWidthCm</th>\n",
              "      <th>Species</th>\n",
              "    </tr>\n",
              "  </thead>\n",
              "  <tbody>\n",
              "    <tr>\n",
              "      <th>0</th>\n",
              "      <td>1</td>\n",
              "      <td>5.1</td>\n",
              "      <td>3.5</td>\n",
              "      <td>1.4</td>\n",
              "      <td>0.2</td>\n",
              "      <td>Iris-setosa</td>\n",
              "    </tr>\n",
              "    <tr>\n",
              "      <th>1</th>\n",
              "      <td>2</td>\n",
              "      <td>4.9</td>\n",
              "      <td>3.0</td>\n",
              "      <td>1.4</td>\n",
              "      <td>0.2</td>\n",
              "      <td>Iris-setosa</td>\n",
              "    </tr>\n",
              "    <tr>\n",
              "      <th>2</th>\n",
              "      <td>3</td>\n",
              "      <td>4.7</td>\n",
              "      <td>3.2</td>\n",
              "      <td>1.3</td>\n",
              "      <td>0.2</td>\n",
              "      <td>Iris-setosa</td>\n",
              "    </tr>\n",
              "    <tr>\n",
              "      <th>3</th>\n",
              "      <td>4</td>\n",
              "      <td>4.6</td>\n",
              "      <td>3.1</td>\n",
              "      <td>1.5</td>\n",
              "      <td>0.2</td>\n",
              "      <td>Iris-setosa</td>\n",
              "    </tr>\n",
              "    <tr>\n",
              "      <th>4</th>\n",
              "      <td>5</td>\n",
              "      <td>5.0</td>\n",
              "      <td>3.6</td>\n",
              "      <td>1.4</td>\n",
              "      <td>0.2</td>\n",
              "      <td>Iris-setosa</td>\n",
              "    </tr>\n",
              "  </tbody>\n",
              "</table>\n",
              "</div>"
            ],
            "text/plain": [
              "   Id  SepalLengthCm  SepalWidthCm  PetalLengthCm  PetalWidthCm      Species\n",
              "0   1            5.1           3.5            1.4           0.2  Iris-setosa\n",
              "1   2            4.9           3.0            1.4           0.2  Iris-setosa\n",
              "2   3            4.7           3.2            1.3           0.2  Iris-setosa\n",
              "3   4            4.6           3.1            1.5           0.2  Iris-setosa\n",
              "4   5            5.0           3.6            1.4           0.2  Iris-setosa"
            ]
          },
          "metadata": {
            "tags": []
          },
          "execution_count": 77
        }
      ]
    },
    {
      "cell_type": "code",
      "metadata": {
        "id": "m24525kFqkEM",
        "outputId": "ef9c7d9a-fa1c-40f9-f94c-c4f5c1c56148",
        "colab": {
          "base_uri": "https://localhost:8080/"
        }
      },
      "source": [
        "data['Species'].unique()"
      ],
      "execution_count": 78,
      "outputs": [
        {
          "output_type": "execute_result",
          "data": {
            "text/plain": [
              "array(['Iris-setosa', 'Iris-versicolor', 'Iris-virginica'], dtype=object)"
            ]
          },
          "metadata": {
            "tags": []
          },
          "execution_count": 78
        }
      ]
    },
    {
      "cell_type": "markdown",
      "metadata": {
        "id": "LYvlkVYuvnfi"
      },
      "source": [
        "##Label Encoding"
      ]
    },
    {
      "cell_type": "code",
      "metadata": {
        "id": "rmR2Pik8uPhb",
        "outputId": "89ba0849-9824-4e4c-9ac9-8c83c02fd7d1",
        "colab": {
          "base_uri": "https://localhost:8080/",
          "height": 202
        }
      },
      "source": [
        "from sklearn.preprocessing import LabelEncoder\n",
        "le=LabelEncoder()\n",
        "data['Species']=le.fit_transform(data['Species'])\n",
        "data.head()"
      ],
      "execution_count": 79,
      "outputs": [
        {
          "output_type": "execute_result",
          "data": {
            "text/html": [
              "<div>\n",
              "<style scoped>\n",
              "    .dataframe tbody tr th:only-of-type {\n",
              "        vertical-align: middle;\n",
              "    }\n",
              "\n",
              "    .dataframe tbody tr th {\n",
              "        vertical-align: top;\n",
              "    }\n",
              "\n",
              "    .dataframe thead th {\n",
              "        text-align: right;\n",
              "    }\n",
              "</style>\n",
              "<table border=\"1\" class=\"dataframe\">\n",
              "  <thead>\n",
              "    <tr style=\"text-align: right;\">\n",
              "      <th></th>\n",
              "      <th>Id</th>\n",
              "      <th>SepalLengthCm</th>\n",
              "      <th>SepalWidthCm</th>\n",
              "      <th>PetalLengthCm</th>\n",
              "      <th>PetalWidthCm</th>\n",
              "      <th>Species</th>\n",
              "    </tr>\n",
              "  </thead>\n",
              "  <tbody>\n",
              "    <tr>\n",
              "      <th>0</th>\n",
              "      <td>1</td>\n",
              "      <td>5.1</td>\n",
              "      <td>3.5</td>\n",
              "      <td>1.4</td>\n",
              "      <td>0.2</td>\n",
              "      <td>0</td>\n",
              "    </tr>\n",
              "    <tr>\n",
              "      <th>1</th>\n",
              "      <td>2</td>\n",
              "      <td>4.9</td>\n",
              "      <td>3.0</td>\n",
              "      <td>1.4</td>\n",
              "      <td>0.2</td>\n",
              "      <td>0</td>\n",
              "    </tr>\n",
              "    <tr>\n",
              "      <th>2</th>\n",
              "      <td>3</td>\n",
              "      <td>4.7</td>\n",
              "      <td>3.2</td>\n",
              "      <td>1.3</td>\n",
              "      <td>0.2</td>\n",
              "      <td>0</td>\n",
              "    </tr>\n",
              "    <tr>\n",
              "      <th>3</th>\n",
              "      <td>4</td>\n",
              "      <td>4.6</td>\n",
              "      <td>3.1</td>\n",
              "      <td>1.5</td>\n",
              "      <td>0.2</td>\n",
              "      <td>0</td>\n",
              "    </tr>\n",
              "    <tr>\n",
              "      <th>4</th>\n",
              "      <td>5</td>\n",
              "      <td>5.0</td>\n",
              "      <td>3.6</td>\n",
              "      <td>1.4</td>\n",
              "      <td>0.2</td>\n",
              "      <td>0</td>\n",
              "    </tr>\n",
              "  </tbody>\n",
              "</table>\n",
              "</div>"
            ],
            "text/plain": [
              "   Id  SepalLengthCm  SepalWidthCm  PetalLengthCm  PetalWidthCm  Species\n",
              "0   1            5.1           3.5            1.4           0.2        0\n",
              "1   2            4.9           3.0            1.4           0.2        0\n",
              "2   3            4.7           3.2            1.3           0.2        0\n",
              "3   4            4.6           3.1            1.5           0.2        0\n",
              "4   5            5.0           3.6            1.4           0.2        0"
            ]
          },
          "metadata": {
            "tags": []
          },
          "execution_count": 79
        }
      ]
    },
    {
      "cell_type": "code",
      "metadata": {
        "id": "jCbe7Bes4gjA"
      },
      "source": [
        "x=data.drop(columns='Species',axis=1).values\n",
        "y=data['Species'].values"
      ],
      "execution_count": 80,
      "outputs": []
    },
    {
      "cell_type": "markdown",
      "metadata": {
        "id": "HfvWLELw4c2y"
      },
      "source": [
        "## Splititng the Data into Training and Testing Dataset"
      ]
    },
    {
      "cell_type": "code",
      "metadata": {
        "id": "6BmsnA0cv-AS"
      },
      "source": [
        "from sklearn.model_selection import train_test_split\n",
        "x_train,x_test,y_train,y_test=train_test_split(x,y,test_size=0.2)"
      ],
      "execution_count": 81,
      "outputs": []
    },
    {
      "cell_type": "code",
      "metadata": {
        "id": "opMnqI9a4S3-",
        "outputId": "79667b76-979d-46ac-ddc5-10d296de144e",
        "colab": {
          "base_uri": "https://localhost:8080/"
        }
      },
      "source": [
        "from sklearn.tree import DecisionTreeClassifier\n",
        "from sklearn.tree import DecisionTreeClassifier,plot_tree\n",
        "model=DecisionTreeClassifier()\n",
        "model.fit(x_train,y_train)"
      ],
      "execution_count": 82,
      "outputs": [
        {
          "output_type": "execute_result",
          "data": {
            "text/plain": [
              "DecisionTreeClassifier(ccp_alpha=0.0, class_weight=None, criterion='gini',\n",
              "                       max_depth=None, max_features=None, max_leaf_nodes=None,\n",
              "                       min_impurity_decrease=0.0, min_impurity_split=None,\n",
              "                       min_samples_leaf=1, min_samples_split=2,\n",
              "                       min_weight_fraction_leaf=0.0, presort='deprecated',\n",
              "                       random_state=None, splitter='best')"
            ]
          },
          "metadata": {
            "tags": []
          },
          "execution_count": 82
        }
      ]
    },
    {
      "cell_type": "code",
      "metadata": {
        "id": "lZMcXdwy9k1P",
        "outputId": "3c955bfb-a925-4747-9b0a-a95dddeaeb86",
        "colab": {
          "base_uri": "https://localhost:8080/"
        }
      },
      "source": [
        "model.score(x_test,y_test)"
      ],
      "execution_count": 83,
      "outputs": [
        {
          "output_type": "execute_result",
          "data": {
            "text/plain": [
              "1.0"
            ]
          },
          "metadata": {
            "tags": []
          },
          "execution_count": 83
        }
      ]
    },
    {
      "cell_type": "markdown",
      "metadata": {
        "id": "HP8Ilr6IOyqc"
      },
      "source": [
        "##Plotting the Decision Tree"
      ]
    },
    {
      "cell_type": "code",
      "metadata": {
        "id": "9eV0TIFI9oiJ",
        "outputId": "1927036d-e786-4ee1-f7b3-aed01ef5dba5",
        "colab": {
          "base_uri": "https://localhost:8080/",
          "height": 248
        }
      },
      "source": [
        "from sklearn.tree import DecisionTreeClassifier, plot_tree\n",
        "dtree= DecisionTreeClassifier().fit(x,y)\n",
        "plt.figure()\n",
        "plot_tree(dtree, filled=True,rounded= True)\n",
        "plt.show()"
      ],
      "execution_count": 86,
      "outputs": [
        {
          "output_type": "display_data",
          "data": {
            "image/png": "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\n",
            "text/plain": [
              "<Figure size 432x288 with 1 Axes>"
            ]
          },
          "metadata": {
            "tags": [],
            "needs_background": "light"
          }
        }
      ]
    },
    {
      "cell_type": "code",
      "metadata": {
        "id": "Qo0sqshPP-RZ"
      },
      "source": [
        ""
      ],
      "execution_count": null,
      "outputs": []
    }
  ]
}
